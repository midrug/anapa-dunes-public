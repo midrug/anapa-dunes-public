{
 "cells": [
  {
   "cell_type": "code",
   "execution_count": null,
   "metadata": {},
   "outputs": [],
   "source": [
    "import numpy as np\n",
    "import pandas as pd\n",
    "import geopandas as gpd"
   ]
  },
  {
   "cell_type": "code",
   "execution_count": null,
   "metadata": {},
   "outputs": [],
   "source": [
    "# Cross-shore profiles represented as points; input files to anapa_structure_lines_detection.ipynb\n",
    "points_all_2013 = gpd.read_file('point_profile_5-6_5m_2013.gpkg')\n",
    "points_all_2015 = gpd.read_file('point_profile_5-6_5m_2015.gpkg')"
   ]
  },
  {
   "cell_type": "code",
   "execution_count": null,
   "metadata": {},
   "outputs": [],
   "source": [
    "# Structure lines for last date represented as points; output files to anapa_structure_lines_detection.ipynb\n",
    "crests = gpd.read_file('crests_5-6_2015.gpkg')\n",
    "toes = gpd.read_file('toes_5-6_2015.gpkg')\n",
    "toes_landward = gpd.read_file('toes_landward_5-6_2015.gpkg')"
   ]
  },
  {
   "cell_type": "code",
   "execution_count": null,
   "metadata": {},
   "outputs": [],
   "source": [
    "crests['seaward_slope_dZ'] = np.nan\n",
    "crests['landward_slope_dZ'] = np.nan\n",
    "crests['seaward_slope_dZ_pos'] = np.nan\n",
    "crests['seaward_slope_dZ_neg'] = np.nan\n",
    "crests['landward_slope_dZ_pos'] = np.nan\n",
    "crests['landward_slope_dZ_neg'] = np.nan\n",
    "crests['seaward_slope_numpoints'] = np.nan\n",
    "crests['landward_slope_numpoints'] = np.nan"
   ]
  },
  {
   "cell_type": "code",
   "execution_count": null,
   "metadata": {
    "scrolled": true
   },
   "outputs": [],
   "source": [
    "for i in crests['LINE_ID']:\n",
    "    print(i)\n",
    "    crest_point = crests[crests['LINE_ID'] == i].reset_index()\n",
    "    toe_point = toes[toes['LINE_ID'] == i].reset_index()\n",
    "    toe_landward_point = toes_landward[toes_landward['LINE_ID'] == i].reset_index()\n",
    "    \n",
    "    if toe_landward_point.empty:\n",
    "        crests['seaward_slope_dZ'][crests['LINE_ID'] == i] = np.nan\n",
    "        crests['landward_slope_dZ'][crests['LINE_ID'] == i] = np.nan\n",
    "    else:\n",
    "        seaward_slope = points_all_2015[(points_all_2015['ID'] >= toe_point['ID'][0]) & (points_all_2015['ID'] <= crest_point['ID'][0])]\n",
    "        landward_slope = points_all_2015[(points_all_2015['ID'] > crest_point['ID'][0]) & (points_all_2015['ID'] <= toe_landward_point['ID'][0])]\n",
    "\n",
    "        seaward_slope_merged = pd.merge(seaward_slope, points_all_2013[points_all_2013['LINE_ID']== i], on=['X', 'Y'], suffixes=('_2015', '_2013'))\n",
    "        landward_slope_merged = pd.merge(landward_slope, points_all_2013[points_all_2013['LINE_ID']== i], on=['X', 'Y'], suffixes=('_2015', '_2013'))\n",
    "\n",
    "        seaward_slope_merged['dZ'] = seaward_slope_merged['Z_2015'] - seaward_slope_merged['Z_2013']\n",
    "        landward_slope_merged['dZ'] = landward_slope_merged['Z_2015'] - landward_slope_merged['Z_2013']\n",
    "\n",
    "        crests['seaward_slope_dZ'][crests['LINE_ID'] == i] = seaward_slope_merged['dZ'].sum()*0.25\n",
    "        crests['landward_slope_dZ'][crests['LINE_ID'] == i] = landward_slope_merged['dZ'].sum()*0.25\n",
    "        \n",
    "        crests['seaward_slope_dZ_pos'][crests['LINE_ID'] == i] = seaward_slope_merged['dZ'][seaward_slope_merged['dZ'] >= 0].sum()*0.25\n",
    "        crests['seaward_slope_dZ_neg'][crests['LINE_ID'] == i] = seaward_slope_merged['dZ'][seaward_slope_merged['dZ'] < 0].sum()*0.25\n",
    "        \n",
    "        crests['landward_slope_dZ_pos'][crests['LINE_ID'] == i] = landward_slope_merged['dZ'][landward_slope_merged['dZ'] >= 0].sum()*0.25\n",
    "        crests['landward_slope_dZ_neg'][crests['LINE_ID'] == i] = landward_slope_merged['dZ'][landward_slope_merged['dZ'] < 0].sum()*0.25\n",
    "        \n",
    "        crests['seaward_slope_numpoints'][crests['LINE_ID'] == i] = len(seaward_slope_merged)\n",
    "        crests['landward_slope_numpoints'][crests['LINE_ID'] == i] = len(landward_slope_merged)\n",
    " "
   ]
  },
  {
   "cell_type": "code",
   "execution_count": null,
   "metadata": {},
   "outputs": [],
   "source": [
    "crests.to_file('crests_5-6_2015_slopesdZ.gpkg', driver='GPKG')"
   ]
  }
 ],
 "metadata": {
  "kernelspec": {
   "display_name": "Python 3",
   "language": "python",
   "name": "python3"
  },
  "language_info": {
   "codemirror_mode": {
    "name": "ipython",
    "version": 3
   },
   "file_extension": ".py",
   "mimetype": "text/x-python",
   "name": "python",
   "nbconvert_exporter": "python",
   "pygments_lexer": "ipython3",
   "version": "3.7.9"
  }
 },
 "nbformat": 4,
 "nbformat_minor": 4
}
