{
 "cells": [
  {
   "cell_type": "code",
   "execution_count": null,
   "metadata": {},
   "outputs": [],
   "source": [
    "import pandas as pd\n",
    "import geopandas as gpd\n",
    "import numpy as np\n",
    "import scipy\n",
    "from scipy.cluster.hierarchy import dendrogram, linkage, fcluster\n",
    "from simplification.cutil import (simplify_coords, simplify_coords_idx)\n",
    "from timeit import default_timer as timer"
   ]
  },
  {
   "cell_type": "code",
   "execution_count": null,
   "metadata": {},
   "outputs": [],
   "source": [
    "def local_maxima(xval, yval):\n",
    "    xval = np.asarray(xval)\n",
    "    yval = np.asarray(yval)\n",
    "\n",
    "    sort_idx = np.argsort(xval)\n",
    "    yval = yval[sort_idx]\n",
    "    gradient = np.diff(yval)\n",
    "    maxima = np.diff((gradient > 0).view(np.int8))\n",
    "    return np.concatenate((([0],) if gradient[0] < 0 else ()) +\n",
    "                         (np.where(maxima == -1)[0] + 1,) +\n",
    "                         (([len(yval)-1],) if gradient[-1] > 0 else ()))"
   ]
  },
  {
   "cell_type": "code",
   "execution_count": null,
   "metadata": {},
   "outputs": [],
   "source": [
    "def find_possible_toes(xval, yval):\n",
    "    dx = np.diff(xval)\n",
    "    dy = np.diff(yval)\n",
    "    slopes = dy/dx\n",
    "    w = np.diff(slopes)\n",
    "    if len(w) == 0: res = np.array([0])\n",
    "    else: res = w.argsort()[-5:][::-1]+1\n",
    "    return res"
   ]
  },
  {
   "cell_type": "code",
   "execution_count": null,
   "metadata": {},
   "outputs": [],
   "source": [
    "def smooth(x,window_len,window='hanning'):\n",
    "    if x.ndim != 1:\n",
    "        raise ValueError(\"smooth only accepts 1 dimension arrays.\")\n",
    "    if x.size < window_len:\n",
    "        raise ValueError(\"Input vector needs to be bigger than window size.\")\n",
    "    if window_len < 3:\n",
    "        return x\n",
    "\n",
    "    if not window in ['flat', 'hanning', 'hamming', 'bartlett', 'blackman']:\n",
    "        raise ValueError(\"Window is on of 'flat', 'hanning', 'hamming', 'bartlett', 'blackman'\")\n",
    "\n",
    "    s=np.r_[x[window_len-1:0:-1],x,x[-2:-window_len-1:-1]]\n",
    "\n",
    "    if window == 'flat': #moving average\n",
    "        w=np.ones(window_len,'d')\n",
    "    else:\n",
    "        w=eval('np.'+window+'(window_len)')\n",
    "\n",
    "    y=np.convolve(w/w.sum(),s,mode='valid')\n",
    "    return y[(window_len//2-1):-(window_len//2 + window_len % 2)]"
   ]
  },
  {
   "cell_type": "code",
   "execution_count": null,
   "metadata": {
    "scrolled": true
   },
   "outputs": [],
   "source": [
    "# Input file with cross-shore profiles, represented as set of points\n",
    "points_all = gpd.read_file('input.gpkg')\n",
    "points_all.LINE_ID.nunique()"
   ]
  },
  {
   "cell_type": "code",
   "execution_count": null,
   "metadata": {
    "scrolled": true
   },
   "outputs": [],
   "source": [
    "window_size = 20 # Size of Hanning window; MUST be integer\n",
    "max_dist = 5 # Define max_distance between points for clustering\n",
    "min_crest_Z = 2 # Min dune crest height\n",
    "\n",
    "DP_dist = 0.1 # Min distance criteria for Douglas-Pecker line simplification\n",
    "dune_height_min = 0.5 # Min height diff btw dune crest and toe\n",
    "min_toe_Z = 1 # Min dune seaward toe height\n",
    "toe_landward_dist = 20 # Max distance of landward toe from crest\n",
    "\n",
    "profile = pd.DataFrame()\n",
    "crests = pd.DataFrame()\n",
    "toes = pd.DataFrame()\n",
    "toes_landward = pd.DataFrame()\n",
    "\n",
    "start = timer()\n",
    "for i in points_all.LINE_ID.unique():\n",
    "    profile = points_all[points_all.LINE_ID == i].reset_index()\n",
    "    \n",
    "    # Smoothing profile line\n",
    "    Z = profile['Z'].values\n",
    "    Z_smooth = smooth(Z, window_size)\n",
    "    Z_DIST_smooth = np.vstack((Z_smooth, profile['DIST'].values)).T\n",
    "    \n",
    "    data = Z_DIST_smooth[:, 1], Z_DIST_smooth[:, 0]\n",
    "    df_Z_DIST_smoothed = pd.DataFrame(pd.np.column_stack([pd.DataFrame(data=data).T]), columns=['DIST', 'Z'])\n",
    "    \n",
    "    profile_smooth = pd.merge(profile, df_Z_DIST_smoothed, on=['DIST'], how='inner', suffixes=('', '_smooth')).drop(columns=['index'])\n",
    "    flex_smooth = profile_smooth[profile_smooth.index.isin(local_maxima(profile_smooth['DIST'], profile_smooth['Z_smooth']))]\n",
    "    \n",
    "    # Clustering smoothed flex_points\n",
    "    X = flex_smooth[['DIST', 'Z_smooth']].values\n",
    "    C = linkage(X, method='single', metric='euclidean') \n",
    "    clusters = fcluster(C, max_dist, criterion='distance') # Find clusters\n",
    "    \n",
    "    data_c = X[:, 0], X[:, 1]\n",
    "    flex_smooth_clustered = pd.DataFrame(pd.np.column_stack([pd.DataFrame(data=data_c).T, clusters.T]), columns=['DIST', 'Z_smooth', 'cluster'])\n",
    "    flex_smooth_merged = pd.merge(flex_smooth, flex_smooth_clustered[['DIST', 'cluster']], on=['DIST'], how='inner')\n",
    "    # Search the highest points in each cluster\n",
    "    poss_crest = flex_smooth_merged.groupby(['cluster'])['Z_smooth'].max().sort_values(ascending=False).reset_index()\n",
    "    poss_crest = poss_crest[poss_crest['Z_smooth'] > min_crest_Z]\n",
    "    crest = pd.merge(poss_crest, flex_smooth_merged, on=['Z_smooth']).sort_values(by=['DIST'])[:1].reset_index().drop(columns=['cluster_x', 'index'])\n",
    "    \n",
    "    # Search dune toe\n",
    "    if crest.empty == False:\n",
    "        for_simplify = profile_smooth[['DIST', 'Z_smooth']].values.tolist()\n",
    "        profile_simplified = pd.DataFrame(simplify_coords(for_simplify, DP_dist), columns=['DIST', 'Z_smooth']) # Profile line simplification by Douglas-Pecke\n",
    "        profile_cut = profile_simplified[(profile_simplified['DIST'] <= crest['DIST'][0])].reset_index()\n",
    "        res_find = find_possible_toes(profile_cut['DIST'], profile_cut['Z_smooth'])\n",
    "        poss_toes = profile_cut[profile_cut.index.isin(res_find)]\n",
    "        order = pd.DataFrame(data=res_find, columns=['right_order'])\n",
    "        poss_toes_ordered = pd.merge(order, poss_toes, how='inner', left_on='right_order', right_on='index')\n",
    "\n",
    "        condition = (poss_toes_ordered['Z_smooth'] >= min_toe_Z) & (poss_toes_ordered['Z_smooth'] <= (crest['Z_smooth'][0]-dune_height_min))\n",
    "        toe_0 = poss_toes_ordered[condition][:1]\n",
    "\n",
    "        # Check if all possible toes are above (crest-dune_height_min)\n",
    "        if toe_0.empty: toe_1 = poss_toes_ordered[:1]\n",
    "        else: toe_1 = toe_0\n",
    "\n",
    "        toe = pd.merge(toe_1, profile_smooth, on=['DIST', 'Z_smooth']).reset_index().drop(columns=['index', 'right_order', 'level_0'])\n",
    "        toes = toes.append(toe)\n",
    "        \n",
    "        # Search landward toe\n",
    "        profile_cut_landward = profile_simplified[(profile_simplified['DIST'] >= crest['DIST'][0])].reset_index()\n",
    "        profile_cut_landward = profile_cut_landward.drop(columns='index')\n",
    "        profile_cut_landward['index1'] = profile_cut_landward.index\n",
    "        res_find_landward = find_possible_toes(profile_cut_landward['DIST'], profile_cut_landward['Z_smooth'])\n",
    "        poss_toes_landward = profile_cut_landward[profile_cut_landward.index.isin(res_find_landward)]\n",
    "        order_landward = pd.DataFrame(data=res_find_landward, columns=['right_order'])\n",
    "        poss_toes_ordered_landward = pd.merge(order_landward, poss_toes_landward, how='inner', left_on='right_order', right_on='index1')\n",
    "\n",
    "        toe_0_landward = poss_toes_ordered_landward[poss_toes_ordered_landward['DIST'] < crest['DIST'][0] + toe_landward_dist][:1]\n",
    "        toe_landward = pd.merge(toe_0_landward, profile_smooth, on=['DIST', 'Z_smooth']).reset_index().drop(columns=['index', 'index1', 'right_order'])\n",
    "        toes_landward = toes_landward.append(toe_landward)\n",
    "        \n",
    "    crests = crests.append(crest)\n",
    "            \n",
    "end = timer()\n",
    "print(end - start)"
   ]
  },
  {
   "cell_type": "code",
   "execution_count": null,
   "metadata": {
    "scrolled": true
   },
   "outputs": [],
   "source": [
    "crests_geo = gpd.GeoDataFrame(crests, geometry=crests.geometry, crs={'init':'epsg:32637'})\n",
    "toes_geo = gpd.GeoDataFrame(toes, geometry=toes.geometry, crs={'init':'epsg:32637'})\n",
    "toes_landward_geo = gpd.GeoDataFrame(toes_landward, geometry=toes_landward.geometry, crs={'init':'epsg:32637'})"
   ]
  },
  {
   "cell_type": "code",
   "execution_count": null,
   "metadata": {
    "scrolled": true
   },
   "outputs": [],
   "source": [
    "crests_geo"
   ]
  },
  {
   "cell_type": "code",
   "execution_count": null,
   "metadata": {
    "scrolled": true
   },
   "outputs": [],
   "source": [
    "toes_geo"
   ]
  },
  {
   "cell_type": "code",
   "execution_count": null,
   "metadata": {
    "scrolled": true
   },
   "outputs": [],
   "source": [
    "toes_landward_geo"
   ]
  },
  {
   "cell_type": "code",
   "execution_count": null,
   "metadata": {
    "scrolled": false
   },
   "outputs": [],
   "source": [
    "crests_geo.to_file('crests.gpkg', driver='GPKG')"
   ]
  },
  {
   "cell_type": "code",
   "execution_count": null,
   "metadata": {
    "scrolled": true
   },
   "outputs": [],
   "source": [
    "toes_geo.to_file('toes_seaward.gpkg', driver='GPKG')"
   ]
  },
  {
   "cell_type": "code",
   "execution_count": null,
   "metadata": {
    "scrolled": true
   },
   "outputs": [],
   "source": [
    "toes_landward_geo.to_file('toes_landward.gpkg', driver='GPKG')"
   ]
  }
 ],
 "metadata": {
  "kernelspec": {
   "display_name": "Python 3",
   "language": "python",
   "name": "python3"
  },
  "language_info": {
   "codemirror_mode": {
    "name": "ipython",
    "version": 3
   },
   "file_extension": ".py",
   "mimetype": "text/x-python",
   "name": "python",
   "nbconvert_exporter": "python",
   "pygments_lexer": "ipython3",
   "version": "3.7.3"
  }
 },
 "nbformat": 4,
 "nbformat_minor": 2
}
